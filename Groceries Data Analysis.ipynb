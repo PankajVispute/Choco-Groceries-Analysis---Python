{
 "cells": [
  {
   "cell_type": "code",
   "execution_count": 8,
   "id": "107ab5ed",
   "metadata": {},
   "outputs": [],
   "source": [
    "## import python liabraries \n",
    "import seaborn as sns\n",
    "import numpy as np\n",
    "import pandas as pd\n",
    "import matplotlib.pyplot as plt"
   ]
  },
  {
   "cell_type": "code",
   "execution_count": 12,
   "id": "4f1af5d2",
   "metadata": {},
   "outputs": [],
   "source": [
    "## read the dataset \n",
    "df= pd.read_excel(r\"C:\\Users\\pv11379\\OneDrive - Deere & Co\\Desktop\\Personal folder\\Data science\\Database/Example.xlsx\")"
   ]
  },
  {
   "cell_type": "code",
   "execution_count": 13,
   "id": "33be502d",
   "metadata": {},
   "outputs": [],
   "source": [
    "## copy original dataset in data\n",
    "data=df.copy()"
   ]
  },
  {
   "cell_type": "code",
   "execution_count": 14,
   "id": "33392997",
   "metadata": {},
   "outputs": [
    {
     "data": {
      "text/html": [
       "<div>\n",
       "<style scoped>\n",
       "    .dataframe tbody tr th:only-of-type {\n",
       "        vertical-align: middle;\n",
       "    }\n",
       "\n",
       "    .dataframe tbody tr th {\n",
       "        vertical-align: top;\n",
       "    }\n",
       "\n",
       "    .dataframe thead th {\n",
       "        text-align: right;\n",
       "    }\n",
       "</style>\n",
       "<table border=\"1\" class=\"dataframe\">\n",
       "  <thead>\n",
       "    <tr style=\"text-align: right;\">\n",
       "      <th></th>\n",
       "      <th>Customer</th>\n",
       "      <th>Age</th>\n",
       "      <th>Sex</th>\n",
       "      <th>Groceries</th>\n",
       "      <th>Choco-bars</th>\n",
       "      <th>Type</th>\n",
       "      <th>Satisfied</th>\n",
       "      <th>Bulk</th>\n",
       "    </tr>\n",
       "  </thead>\n",
       "  <tbody>\n",
       "    <tr>\n",
       "      <th>0</th>\n",
       "      <td>1</td>\n",
       "      <td>36</td>\n",
       "      <td>Male</td>\n",
       "      <td>180</td>\n",
       "      <td>3</td>\n",
       "      <td>White</td>\n",
       "      <td>4</td>\n",
       "      <td>3</td>\n",
       "    </tr>\n",
       "    <tr>\n",
       "      <th>1</th>\n",
       "      <td>2</td>\n",
       "      <td>45</td>\n",
       "      <td>Male</td>\n",
       "      <td>180</td>\n",
       "      <td>4</td>\n",
       "      <td>Milk</td>\n",
       "      <td>3</td>\n",
       "      <td>2</td>\n",
       "    </tr>\n",
       "  </tbody>\n",
       "</table>\n",
       "</div>"
      ],
      "text/plain": [
       "   Customer   Age    Sex  Groceries  Choco-bars  Type   Satisfied   Bulk\n",
       "0          1    36  Male        180           3  White           4     3\n",
       "1          2    45  Male        180           4   Milk           3     2"
      ]
     },
     "execution_count": 14,
     "metadata": {},
     "output_type": "execute_result"
    }
   ],
   "source": [
    "## dataset top 2 rows with head\n",
    "df.head(2)"
   ]
  },
  {
   "cell_type": "code",
   "execution_count": 15,
   "id": "c28e50e6",
   "metadata": {},
   "outputs": [
    {
     "data": {
      "text/html": [
       "<div>\n",
       "<style scoped>\n",
       "    .dataframe tbody tr th:only-of-type {\n",
       "        vertical-align: middle;\n",
       "    }\n",
       "\n",
       "    .dataframe tbody tr th {\n",
       "        vertical-align: top;\n",
       "    }\n",
       "\n",
       "    .dataframe thead th {\n",
       "        text-align: right;\n",
       "    }\n",
       "</style>\n",
       "<table border=\"1\" class=\"dataframe\">\n",
       "  <thead>\n",
       "    <tr style=\"text-align: right;\">\n",
       "      <th></th>\n",
       "      <th>Customer</th>\n",
       "      <th>Age</th>\n",
       "      <th>Sex</th>\n",
       "      <th>Groceries</th>\n",
       "      <th>Choco-bars</th>\n",
       "      <th>Type</th>\n",
       "      <th>Satisfied</th>\n",
       "      <th>Bulk</th>\n",
       "    </tr>\n",
       "  </thead>\n",
       "  <tbody>\n",
       "    <tr>\n",
       "      <th>48</th>\n",
       "      <td>49</td>\n",
       "      <td>36</td>\n",
       "      <td>Male</td>\n",
       "      <td>180</td>\n",
       "      <td>4</td>\n",
       "      <td>White</td>\n",
       "      <td>3</td>\n",
       "      <td>3</td>\n",
       "    </tr>\n",
       "    <tr>\n",
       "      <th>49</th>\n",
       "      <td>50</td>\n",
       "      <td>24</td>\n",
       "      <td>Male</td>\n",
       "      <td>180</td>\n",
       "      <td>2</td>\n",
       "      <td>Dark</td>\n",
       "      <td>4</td>\n",
       "      <td>3</td>\n",
       "    </tr>\n",
       "  </tbody>\n",
       "</table>\n",
       "</div>"
      ],
      "text/plain": [
       "    Customer   Age    Sex  Groceries  Choco-bars  Type   Satisfied   Bulk\n",
       "48         49    36  Male        180           4  White           3     3\n",
       "49         50    24  Male        180           2   Dark           4     3"
      ]
     },
     "execution_count": 15,
     "metadata": {},
     "output_type": "execute_result"
    }
   ],
   "source": [
    "## dataset bottom 2 rows with head\n",
    "df.tail(2)"
   ]
  },
  {
   "cell_type": "code",
   "execution_count": 16,
   "id": "afaa9200",
   "metadata": {},
   "outputs": [
    {
     "name": "stdout",
     "output_type": "stream",
     "text": [
      "<class 'pandas.core.frame.DataFrame'>\n",
      "RangeIndex: 50 entries, 0 to 49\n",
      "Data columns (total 8 columns):\n",
      " #   Column      Non-Null Count  Dtype \n",
      "---  ------      --------------  ----- \n",
      " 0   Customer    50 non-null     int64 \n",
      " 1   Age         50 non-null     int64 \n",
      " 2   Sex         50 non-null     object\n",
      " 3   Groceries   50 non-null     int64 \n",
      " 4   Choco-bars  50 non-null     int64 \n",
      " 5   Type        50 non-null     object\n",
      " 6   Satisfied   50 non-null     int64 \n",
      " 7   Bulk        50 non-null     int64 \n",
      "dtypes: int64(6), object(2)\n",
      "memory usage: 3.3+ KB\n"
     ]
    }
   ],
   "source": [
    "## dataset information  - 50 rows and 8 columns \n",
    "df.info()"
   ]
  },
  {
   "cell_type": "code",
   "execution_count": 17,
   "id": "76b299ae",
   "metadata": {},
   "outputs": [
    {
     "data": {
      "text/plain": [
       "Index(['Customer ', 'Age ', 'Sex', 'Groceries', 'Choco-bars', 'Type ',\n",
       "       'Satisfied ', 'Bulk'],\n",
       "      dtype='object')"
      ]
     },
     "execution_count": 17,
     "metadata": {},
     "output_type": "execute_result"
    }
   ],
   "source": [
    "## dataset columns details\n",
    "column= df.columns\n",
    "column"
   ]
  },
  {
   "cell_type": "markdown",
   "id": "e98fa168",
   "metadata": {},
   "source": [
    "# convert dataset columns name into lower case"
   ]
  },
  {
   "cell_type": "code",
   "execution_count": 18,
   "id": "54691a0a",
   "metadata": {},
   "outputs": [],
   "source": [
    "mod_col=[]\n",
    "for i in column:\n",
    "    a=i.lower()\n",
    "    mod_col.append(a)"
   ]
  },
  {
   "cell_type": "code",
   "execution_count": 19,
   "id": "f9155791",
   "metadata": {},
   "outputs": [
    {
     "name": "stdout",
     "output_type": "stream",
     "text": [
      "['customer ', 'age ', 'sex', 'groceries', 'choco-bars', 'type ', 'satisfied ', 'bulk']\n"
     ]
    }
   ],
   "source": [
    "print(mod_col)"
   ]
  },
  {
   "cell_type": "markdown",
   "id": "ddfc7f27",
   "metadata": {},
   "source": [
    "# remove spaces in dataset columns"
   ]
  },
  {
   "cell_type": "code",
   "execution_count": 20,
   "id": "b6ac395d",
   "metadata": {},
   "outputs": [],
   "source": [
    "mod_col1=[]\n",
    "for i in mod_col:\n",
    "    b=i.strip()\n",
    "    mod_col1.append(b)"
   ]
  },
  {
   "cell_type": "code",
   "execution_count": 21,
   "id": "c92b00aa",
   "metadata": {},
   "outputs": [
    {
     "name": "stdout",
     "output_type": "stream",
     "text": [
      "['customer', 'age', 'sex', 'groceries', 'choco-bars', 'type', 'satisfied', 'bulk']\n"
     ]
    }
   ],
   "source": [
    "print(mod_col1)"
   ]
  },
  {
   "cell_type": "code",
   "execution_count": 22,
   "id": "17605566",
   "metadata": {},
   "outputs": [],
   "source": [
    "## assign new columns name to dataset \n",
    "df.columns=mod_col1"
   ]
  },
  {
   "cell_type": "code",
   "execution_count": 23,
   "id": "964b9cd3",
   "metadata": {},
   "outputs": [
    {
     "data": {
      "text/plain": [
       "Index(['customer', 'age', 'sex', 'groceries', 'choco-bars', 'type',\n",
       "       'satisfied', 'bulk'],\n",
       "      dtype='object')"
      ]
     },
     "execution_count": 23,
     "metadata": {},
     "output_type": "execute_result"
    }
   ],
   "source": [
    "df.columns"
   ]
  },
  {
   "cell_type": "code",
   "execution_count": 24,
   "id": "b50944c5",
   "metadata": {},
   "outputs": [
    {
     "data": {
      "text/html": [
       "<div>\n",
       "<style scoped>\n",
       "    .dataframe tbody tr th:only-of-type {\n",
       "        vertical-align: middle;\n",
       "    }\n",
       "\n",
       "    .dataframe tbody tr th {\n",
       "        vertical-align: top;\n",
       "    }\n",
       "\n",
       "    .dataframe thead th {\n",
       "        text-align: right;\n",
       "    }\n",
       "</style>\n",
       "<table border=\"1\" class=\"dataframe\">\n",
       "  <thead>\n",
       "    <tr style=\"text-align: right;\">\n",
       "      <th></th>\n",
       "      <th>customer</th>\n",
       "      <th>age</th>\n",
       "      <th>sex</th>\n",
       "      <th>groceries</th>\n",
       "      <th>choco-bars</th>\n",
       "      <th>type</th>\n",
       "      <th>satisfied</th>\n",
       "      <th>bulk</th>\n",
       "    </tr>\n",
       "  </thead>\n",
       "  <tbody>\n",
       "    <tr>\n",
       "      <th>0</th>\n",
       "      <td>1</td>\n",
       "      <td>36</td>\n",
       "      <td>Male</td>\n",
       "      <td>180</td>\n",
       "      <td>3</td>\n",
       "      <td>White</td>\n",
       "      <td>4</td>\n",
       "      <td>3</td>\n",
       "    </tr>\n",
       "    <tr>\n",
       "      <th>1</th>\n",
       "      <td>2</td>\n",
       "      <td>45</td>\n",
       "      <td>Male</td>\n",
       "      <td>180</td>\n",
       "      <td>4</td>\n",
       "      <td>Milk</td>\n",
       "      <td>3</td>\n",
       "      <td>2</td>\n",
       "    </tr>\n",
       "  </tbody>\n",
       "</table>\n",
       "</div>"
      ],
      "text/plain": [
       "   customer  age   sex  groceries  choco-bars   type  satisfied  bulk\n",
       "0         1   36  Male        180           3  White          4     3\n",
       "1         2   45  Male        180           4   Milk          3     2"
      ]
     },
     "execution_count": 24,
     "metadata": {},
     "output_type": "execute_result"
    }
   ],
   "source": [
    "df.head(2)"
   ]
  },
  {
   "cell_type": "markdown",
   "id": "d0b74802",
   "metadata": {},
   "source": [
    "# dataset shape information"
   ]
  },
  {
   "cell_type": "code",
   "execution_count": 25,
   "id": "ecda256c",
   "metadata": {},
   "outputs": [
    {
     "name": "stdout",
     "output_type": "stream",
     "text": [
      "dadataset total rows are-  50\n",
      "dadataset total columns are-  8\n"
     ]
    }
   ],
   "source": [
    "df.shape\n",
    "print(\"dadataset total rows are- \",df.shape[0])\n",
    "print(\"dadataset total columns are- \",df.shape[1])"
   ]
  },
  {
   "cell_type": "code",
   "execution_count": 26,
   "id": "e87d365e",
   "metadata": {},
   "outputs": [
    {
     "data": {
      "text/plain": [
       "RangeIndex(start=0, stop=50, step=1)"
      ]
     },
     "execution_count": 26,
     "metadata": {},
     "output_type": "execute_result"
    }
   ],
   "source": [
    "##dataset indexing \n",
    "df.index"
   ]
  },
  {
   "cell_type": "markdown",
   "id": "3c321ec0",
   "metadata": {},
   "source": [
    "# numerical analysis of dataset int columns"
   ]
  },
  {
   "cell_type": "code",
   "execution_count": 27,
   "id": "e57c8cbc",
   "metadata": {},
   "outputs": [
    {
     "data": {
      "text/html": [
       "<div>\n",
       "<style scoped>\n",
       "    .dataframe tbody tr th:only-of-type {\n",
       "        vertical-align: middle;\n",
       "    }\n",
       "\n",
       "    .dataframe tbody tr th {\n",
       "        vertical-align: top;\n",
       "    }\n",
       "\n",
       "    .dataframe thead th {\n",
       "        text-align: right;\n",
       "    }\n",
       "</style>\n",
       "<table border=\"1\" class=\"dataframe\">\n",
       "  <thead>\n",
       "    <tr style=\"text-align: right;\">\n",
       "      <th></th>\n",
       "      <th>customer</th>\n",
       "      <th>age</th>\n",
       "      <th>groceries</th>\n",
       "      <th>choco-bars</th>\n",
       "      <th>satisfied</th>\n",
       "      <th>bulk</th>\n",
       "    </tr>\n",
       "  </thead>\n",
       "  <tbody>\n",
       "    <tr>\n",
       "      <th>count</th>\n",
       "      <td>50.00000</td>\n",
       "      <td>50.000000</td>\n",
       "      <td>50.000000</td>\n",
       "      <td>50.00000</td>\n",
       "      <td>50.000000</td>\n",
       "      <td>50.000000</td>\n",
       "    </tr>\n",
       "    <tr>\n",
       "      <th>mean</th>\n",
       "      <td>25.50000</td>\n",
       "      <td>30.400000</td>\n",
       "      <td>196.200000</td>\n",
       "      <td>3.42000</td>\n",
       "      <td>2.720000</td>\n",
       "      <td>2.580000</td>\n",
       "    </tr>\n",
       "    <tr>\n",
       "      <th>std</th>\n",
       "      <td>14.57738</td>\n",
       "      <td>8.342172</td>\n",
       "      <td>34.040192</td>\n",
       "      <td>1.12649</td>\n",
       "      <td>1.050559</td>\n",
       "      <td>1.144463</td>\n",
       "    </tr>\n",
       "    <tr>\n",
       "      <th>min</th>\n",
       "      <td>1.00000</td>\n",
       "      <td>18.000000</td>\n",
       "      <td>150.000000</td>\n",
       "      <td>2.00000</td>\n",
       "      <td>1.000000</td>\n",
       "      <td>1.000000</td>\n",
       "    </tr>\n",
       "    <tr>\n",
       "      <th>25%</th>\n",
       "      <td>13.25000</td>\n",
       "      <td>23.000000</td>\n",
       "      <td>180.000000</td>\n",
       "      <td>2.00000</td>\n",
       "      <td>2.000000</td>\n",
       "      <td>1.250000</td>\n",
       "    </tr>\n",
       "    <tr>\n",
       "      <th>50%</th>\n",
       "      <td>25.50000</td>\n",
       "      <td>29.500000</td>\n",
       "      <td>200.000000</td>\n",
       "      <td>3.00000</td>\n",
       "      <td>3.000000</td>\n",
       "      <td>3.000000</td>\n",
       "    </tr>\n",
       "    <tr>\n",
       "      <th>75%</th>\n",
       "      <td>37.75000</td>\n",
       "      <td>37.750000</td>\n",
       "      <td>220.000000</td>\n",
       "      <td>4.00000</td>\n",
       "      <td>4.000000</td>\n",
       "      <td>3.750000</td>\n",
       "    </tr>\n",
       "    <tr>\n",
       "      <th>max</th>\n",
       "      <td>50.00000</td>\n",
       "      <td>45.000000</td>\n",
       "      <td>250.000000</td>\n",
       "      <td>5.00000</td>\n",
       "      <td>4.000000</td>\n",
       "      <td>4.000000</td>\n",
       "    </tr>\n",
       "  </tbody>\n",
       "</table>\n",
       "</div>"
      ],
      "text/plain": [
       "       customer        age   groceries  choco-bars  satisfied       bulk\n",
       "count  50.00000  50.000000   50.000000    50.00000  50.000000  50.000000\n",
       "mean   25.50000  30.400000  196.200000     3.42000   2.720000   2.580000\n",
       "std    14.57738   8.342172   34.040192     1.12649   1.050559   1.144463\n",
       "min     1.00000  18.000000  150.000000     2.00000   1.000000   1.000000\n",
       "25%    13.25000  23.000000  180.000000     2.00000   2.000000   1.250000\n",
       "50%    25.50000  29.500000  200.000000     3.00000   3.000000   3.000000\n",
       "75%    37.75000  37.750000  220.000000     4.00000   4.000000   3.750000\n",
       "max    50.00000  45.000000  250.000000     5.00000   4.000000   4.000000"
      ]
     },
     "execution_count": 27,
     "metadata": {},
     "output_type": "execute_result"
    }
   ],
   "source": [
    "df.describe() ## statistical analysis"
   ]
  },
  {
   "cell_type": "code",
   "execution_count": 28,
   "id": "20e25537",
   "metadata": {},
   "outputs": [
    {
     "data": {
      "text/html": [
       "<div>\n",
       "<style scoped>\n",
       "    .dataframe tbody tr th:only-of-type {\n",
       "        vertical-align: middle;\n",
       "    }\n",
       "\n",
       "    .dataframe tbody tr th {\n",
       "        vertical-align: top;\n",
       "    }\n",
       "\n",
       "    .dataframe thead th {\n",
       "        text-align: right;\n",
       "    }\n",
       "</style>\n",
       "<table border=\"1\" class=\"dataframe\">\n",
       "  <thead>\n",
       "    <tr style=\"text-align: right;\">\n",
       "      <th></th>\n",
       "      <th>customer</th>\n",
       "      <th>age</th>\n",
       "      <th>sex</th>\n",
       "      <th>groceries</th>\n",
       "      <th>choco-bars</th>\n",
       "      <th>type</th>\n",
       "      <th>satisfied</th>\n",
       "      <th>bulk</th>\n",
       "    </tr>\n",
       "  </thead>\n",
       "  <tbody>\n",
       "    <tr>\n",
       "      <th>count</th>\n",
       "      <td>50.00000</td>\n",
       "      <td>50.000000</td>\n",
       "      <td>50</td>\n",
       "      <td>50.000000</td>\n",
       "      <td>50.00000</td>\n",
       "      <td>50</td>\n",
       "      <td>50.000000</td>\n",
       "      <td>50.000000</td>\n",
       "    </tr>\n",
       "    <tr>\n",
       "      <th>unique</th>\n",
       "      <td>NaN</td>\n",
       "      <td>NaN</td>\n",
       "      <td>2</td>\n",
       "      <td>NaN</td>\n",
       "      <td>NaN</td>\n",
       "      <td>3</td>\n",
       "      <td>NaN</td>\n",
       "      <td>NaN</td>\n",
       "    </tr>\n",
       "    <tr>\n",
       "      <th>top</th>\n",
       "      <td>NaN</td>\n",
       "      <td>NaN</td>\n",
       "      <td>Male</td>\n",
       "      <td>NaN</td>\n",
       "      <td>NaN</td>\n",
       "      <td>Dark</td>\n",
       "      <td>NaN</td>\n",
       "      <td>NaN</td>\n",
       "    </tr>\n",
       "    <tr>\n",
       "      <th>freq</th>\n",
       "      <td>NaN</td>\n",
       "      <td>NaN</td>\n",
       "      <td>26</td>\n",
       "      <td>NaN</td>\n",
       "      <td>NaN</td>\n",
       "      <td>26</td>\n",
       "      <td>NaN</td>\n",
       "      <td>NaN</td>\n",
       "    </tr>\n",
       "    <tr>\n",
       "      <th>mean</th>\n",
       "      <td>25.50000</td>\n",
       "      <td>30.400000</td>\n",
       "      <td>NaN</td>\n",
       "      <td>196.200000</td>\n",
       "      <td>3.42000</td>\n",
       "      <td>NaN</td>\n",
       "      <td>2.720000</td>\n",
       "      <td>2.580000</td>\n",
       "    </tr>\n",
       "    <tr>\n",
       "      <th>std</th>\n",
       "      <td>14.57738</td>\n",
       "      <td>8.342172</td>\n",
       "      <td>NaN</td>\n",
       "      <td>34.040192</td>\n",
       "      <td>1.12649</td>\n",
       "      <td>NaN</td>\n",
       "      <td>1.050559</td>\n",
       "      <td>1.144463</td>\n",
       "    </tr>\n",
       "    <tr>\n",
       "      <th>min</th>\n",
       "      <td>1.00000</td>\n",
       "      <td>18.000000</td>\n",
       "      <td>NaN</td>\n",
       "      <td>150.000000</td>\n",
       "      <td>2.00000</td>\n",
       "      <td>NaN</td>\n",
       "      <td>1.000000</td>\n",
       "      <td>1.000000</td>\n",
       "    </tr>\n",
       "    <tr>\n",
       "      <th>25%</th>\n",
       "      <td>13.25000</td>\n",
       "      <td>23.000000</td>\n",
       "      <td>NaN</td>\n",
       "      <td>180.000000</td>\n",
       "      <td>2.00000</td>\n",
       "      <td>NaN</td>\n",
       "      <td>2.000000</td>\n",
       "      <td>1.250000</td>\n",
       "    </tr>\n",
       "    <tr>\n",
       "      <th>50%</th>\n",
       "      <td>25.50000</td>\n",
       "      <td>29.500000</td>\n",
       "      <td>NaN</td>\n",
       "      <td>200.000000</td>\n",
       "      <td>3.00000</td>\n",
       "      <td>NaN</td>\n",
       "      <td>3.000000</td>\n",
       "      <td>3.000000</td>\n",
       "    </tr>\n",
       "    <tr>\n",
       "      <th>75%</th>\n",
       "      <td>37.75000</td>\n",
       "      <td>37.750000</td>\n",
       "      <td>NaN</td>\n",
       "      <td>220.000000</td>\n",
       "      <td>4.00000</td>\n",
       "      <td>NaN</td>\n",
       "      <td>4.000000</td>\n",
       "      <td>3.750000</td>\n",
       "    </tr>\n",
       "    <tr>\n",
       "      <th>max</th>\n",
       "      <td>50.00000</td>\n",
       "      <td>45.000000</td>\n",
       "      <td>NaN</td>\n",
       "      <td>250.000000</td>\n",
       "      <td>5.00000</td>\n",
       "      <td>NaN</td>\n",
       "      <td>4.000000</td>\n",
       "      <td>4.000000</td>\n",
       "    </tr>\n",
       "  </tbody>\n",
       "</table>\n",
       "</div>"
      ],
      "text/plain": [
       "        customer        age   sex   groceries  choco-bars  type  satisfied  \\\n",
       "count   50.00000  50.000000    50   50.000000    50.00000    50  50.000000   \n",
       "unique       NaN        NaN     2         NaN         NaN     3        NaN   \n",
       "top          NaN        NaN  Male         NaN         NaN  Dark        NaN   \n",
       "freq         NaN        NaN    26         NaN         NaN    26        NaN   \n",
       "mean    25.50000  30.400000   NaN  196.200000     3.42000   NaN   2.720000   \n",
       "std     14.57738   8.342172   NaN   34.040192     1.12649   NaN   1.050559   \n",
       "min      1.00000  18.000000   NaN  150.000000     2.00000   NaN   1.000000   \n",
       "25%     13.25000  23.000000   NaN  180.000000     2.00000   NaN   2.000000   \n",
       "50%     25.50000  29.500000   NaN  200.000000     3.00000   NaN   3.000000   \n",
       "75%     37.75000  37.750000   NaN  220.000000     4.00000   NaN   4.000000   \n",
       "max     50.00000  45.000000   NaN  250.000000     5.00000   NaN   4.000000   \n",
       "\n",
       "             bulk  \n",
       "count   50.000000  \n",
       "unique        NaN  \n",
       "top           NaN  \n",
       "freq          NaN  \n",
       "mean     2.580000  \n",
       "std      1.144463  \n",
       "min      1.000000  \n",
       "25%      1.250000  \n",
       "50%      3.000000  \n",
       "75%      3.750000  \n",
       "max      4.000000  "
      ]
     },
     "execution_count": 28,
     "metadata": {},
     "output_type": "execute_result"
    }
   ],
   "source": [
    "##numerical analysis of dataset all columns\n",
    "df.describe(include='all')"
   ]
  },
  {
   "cell_type": "markdown",
   "id": "e3166e25",
   "metadata": {},
   "source": [
    "# null values in dataset columns"
   ]
  },
  {
   "cell_type": "code",
   "execution_count": 29,
   "id": "ae359d53",
   "metadata": {},
   "outputs": [
    {
     "data": {
      "text/plain": [
       "customer      0\n",
       "age           0\n",
       "sex           0\n",
       "groceries     0\n",
       "choco-bars    0\n",
       "type          0\n",
       "satisfied     0\n",
       "bulk          0\n",
       "dtype: int64"
      ]
     },
     "execution_count": 29,
     "metadata": {},
     "output_type": "execute_result"
    }
   ],
   "source": [
    "df.isnull().sum()\n",
    "## no null values in dataset"
   ]
  },
  {
   "cell_type": "markdown",
   "id": "a4742a62",
   "metadata": {},
   "source": [
    "# find out any outliers in groceries "
   ]
  },
  {
   "cell_type": "code",
   "execution_count": 30,
   "id": "6a0d773b",
   "metadata": {},
   "outputs": [
    {
     "data": {
      "image/png": "[encoded data removed]",
      "text/plain": [
       "<Figure size 640x480 with 1 Axes>"
      ]
     },
     "metadata": {},
     "output_type": "display_data"
    }
   ],
   "source": [
    "sns.boxplot(x=df['groceries'])\n",
    "plt.show()\n",
    "## no outliers in groceries"
   ]
  },
  {
   "cell_type": "code",
   "execution_count": 31,
   "id": "6e3a221c",
   "metadata": {},
   "outputs": [
    {
     "data": {
      "text/plain": [
       "Male      26\n",
       "Female    24\n",
       "Name: sex, dtype: int64"
      ]
     },
     "execution_count": 31,
     "metadata": {},
     "output_type": "execute_result"
    }
   ],
   "source": [
    "## total male and female in dataset\n",
    "df['sex'].value_counts()\n"
   ]
  },
  {
   "cell_type": "code",
   "execution_count": 32,
   "id": "d6d45842",
   "metadata": {},
   "outputs": [
    {
     "data": {
      "image/png": "[encoded data removed]",
      "text/plain": [
       "<Figure size 640x480 with 1 Axes>"
      ]
     },
     "metadata": {},
     "output_type": "display_data"
    }
   ],
   "source": [
    "## total male and female gender in dataset using seaborn\n",
    "sns.countplot(x=df['sex'])\n",
    "plt.show()"
   ]
  },
  {
   "cell_type": "code",
   "execution_count": 70,
   "id": "b1835a36",
   "metadata": {},
   "outputs": [
    {
     "data": {
      "text/plain": [
       "Dark     26\n",
       "White    14\n",
       "Milk     10\n",
       "Name: type, dtype: int64"
      ]
     },
     "execution_count": 70,
     "metadata": {},
     "output_type": "execute_result"
    }
   ],
   "source": [
    "## total dark,white and milk in dataset\n",
    "df['type'].value_counts()"
   ]
  },
  {
   "cell_type": "code",
   "execution_count": 33,
   "id": "3d2c44b2",
   "metadata": {},
   "outputs": [
    {
     "data": {
      "image/png": "[encoded data removed]",
      "text/plain": [
       "<Figure size 640x480 with 1 Axes>"
      ]
     },
     "metadata": {},
     "output_type": "display_data"
    }
   ],
   "source": [
    "##total dark,whote and milk in dataset using seaborn\n",
    "sns.countplot(x=df['type'])\n",
    "plt.show()"
   ]
  },
  {
   "cell_type": "code",
   "execution_count": 34,
   "id": "c719efda",
   "metadata": {},
   "outputs": [
    {
     "name": "stdout",
     "output_type": "stream",
     "text": [
      "Total groceries spend is -  9810\n"
     ]
    }
   ],
   "source": [
    "## total groceries spends\n",
    "print(\"Total groceries spend is - \",df['groceries'].sum())"
   ]
  },
  {
   "cell_type": "code",
   "execution_count": 35,
   "id": "e8e97af8",
   "metadata": {},
   "outputs": [
    {
     "data": {
      "text/plain": [
       "sex\n",
       "Female    4780\n",
       "Male      5030\n",
       "Name: groceries, dtype: int64"
      ]
     },
     "execution_count": 35,
     "metadata": {},
     "output_type": "execute_result"
    }
   ],
   "source": [
    "## sex wise groceries amount\n",
    "df.groupby('sex')['groceries'].sum()"
   ]
  },
  {
   "cell_type": "code",
   "execution_count": 36,
   "id": "cd36750d",
   "metadata": {},
   "outputs": [
    {
     "data": {
      "image/png": "[encoded data removed]",
      "text/plain": [
       "<Figure size 640x480 with 1 Axes>"
      ]
     },
     "metadata": {},
     "output_type": "display_data"
    }
   ],
   "source": [
    "## sex wise groceries spend bar char \n",
    "df.groupby('sex')['groceries'].sum().plot(kind='barh')\n",
    "plt.show()"
   ]
  },
  {
   "cell_type": "code",
   "execution_count": 37,
   "id": "2b72abd7",
   "metadata": {},
   "outputs": [
    {
     "data": {
      "image/png": "[encoded data removed]",
      "text/plain": [
       "<Figure size 640x480 with 1 Axes>"
      ]
     },
     "metadata": {},
     "output_type": "display_data"
    }
   ],
   "source": [
    "## sex wise groceries using seaborn\n",
    "sns.barplot(x=df['groceries'],y=df['sex'],estimator='sum')\n",
    "plt.show()"
   ]
  },
  {
   "cell_type": "code",
   "execution_count": 38,
   "id": "242e3897",
   "metadata": {},
   "outputs": [
    {
     "name": "stdout",
     "output_type": "stream",
     "text": [
      "sex\n",
      "Female    199.0\n",
      "Male      193.0\n",
      "Name: groceries, dtype: float64 0\n"
     ]
    }
   ],
   "source": [
    "## sex wise average groceries spend\n",
    "sex_avg_groceries=df.groupby('sex')['groceries'].mean()\n",
    "print(round(sex_avg_groceries),0)"
   ]
  },
  {
   "cell_type": "code",
   "execution_count": 39,
   "id": "a68f9845",
   "metadata": {},
   "outputs": [
    {
     "data": {
      "image/png": "[encoded data removed]",
      "text/plain": [
       "<Figure size 640x480 with 1 Axes>"
      ]
     },
     "metadata": {},
     "output_type": "display_data"
    }
   ],
   "source": [
    "## pie chart for sex wise average groceries spend\n",
    "plt.pie(sex_avg_groceries.values,labels=sex_avg_groceries.index)\n",
    "plt.show()"
   ]
  },
  {
   "cell_type": "code",
   "execution_count": 84,
   "id": "e7c3d371",
   "metadata": {},
   "outputs": [
    {
     "data": {
      "text/plain": [
       "type\n",
       "Dark     4850\n",
       "Milk     2050\n",
       "White    2910\n",
       "Name: groceries, dtype: int64"
      ]
     },
     "execution_count": 84,
     "metadata": {},
     "output_type": "execute_result"
    }
   ],
   "source": [
    "## type wise groceries spend\n",
    "df.groupby(['type'])['groceries'].sum()"
   ]
  },
  {
   "cell_type": "code",
   "execution_count": 40,
   "id": "186b6533",
   "metadata": {},
   "outputs": [
    {
     "data": {
      "image/png": "[encoded data removed]",
      "text/plain": [
       "<Figure size 640x480 with 1 Axes>"
      ]
     },
     "metadata": {},
     "output_type": "display_data"
    }
   ],
   "source": [
    "df.groupby(['type'])['groceries'].sum().plot(kind='pie')\n",
    "plt.show()"
   ]
  },
  {
   "cell_type": "code",
   "execution_count": 41,
   "id": "e42522f5",
   "metadata": {},
   "outputs": [
    {
     "data": {
      "image/png": "[encoded data removed]",
      "text/plain": [
       "<Figure size 640x480 with 1 Axes>"
      ]
     },
     "metadata": {},
     "output_type": "display_data"
    }
   ],
   "source": [
    "sns.barplot(x=df['type'],y=df['groceries'],estimator='sum')\n",
    "plt.show()"
   ]
  },
  {
   "cell_type": "code",
   "execution_count": 88,
   "id": "29cc2c1f",
   "metadata": {},
   "outputs": [
    {
     "data": {
      "text/plain": [
       "sex     type \n",
       "Female  Dark     1860\n",
       "        Milk     1020\n",
       "        White    1900\n",
       "Male    Dark     2990\n",
       "        Milk     1030\n",
       "        White    1010\n",
       "Name: groceries, dtype: int64"
      ]
     },
     "execution_count": 88,
     "metadata": {},
     "output_type": "execute_result"
    }
   ],
   "source": [
    "##sex and type wise total groceries spend\n",
    "df.groupby(['sex','type'])['groceries'].sum()"
   ]
  },
  {
   "cell_type": "code",
   "execution_count": 42,
   "id": "8d6b975f",
   "metadata": {},
   "outputs": [
    {
     "data": {
      "image/png": "[encoded data removed]",
      "text/plain": [
       "<Figure size 640x480 with 1 Axes>"
      ]
     },
     "metadata": {},
     "output_type": "display_data"
    }
   ],
   "source": [
    "df.groupby(['sex','type'])['groceries'].sum().plot(kind='bar')\n",
    "plt.show()"
   ]
  },
  {
   "cell_type": "code",
   "execution_count": 43,
   "id": "f4275ac9",
   "metadata": {},
   "outputs": [
    {
     "data": {
      "image/png": "[encoded data removed]",
      "text/plain": [
       "<Figure size 640x480 with 1 Axes>"
      ]
     },
     "metadata": {},
     "output_type": "display_data"
    }
   ],
   "source": [
    "sns.barplot(x=df['sex'],y=df['groceries'],hue=df['type'],estimator='sum')\n",
    "plt.show()"
   ]
  },
  {
   "cell_type": "code",
   "execution_count": 44,
   "id": "23376382",
   "metadata": {},
   "outputs": [
    {
     "name": "stderr",
     "output_type": "stream",
     "text": [
      "C:\\Users\\pv11379\\AppData\\Local\\Temp\\ipykernel_35268\\151104094.py:2: FutureWarning: The default value of numeric_only in DataFrame.corr is deprecated. In a future version, it will default to False. Select only valid columns or specify the value of numeric_only to silence this warning.\n",
      "  corrdf= df.corr()\n"
     ]
    },
    {
     "data": {
      "text/html": [
       "<div>\n",
       "<style scoped>\n",
       "    .dataframe tbody tr th:only-of-type {\n",
       "        vertical-align: middle;\n",
       "    }\n",
       "\n",
       "    .dataframe tbody tr th {\n",
       "        vertical-align: top;\n",
       "    }\n",
       "\n",
       "    .dataframe thead th {\n",
       "        text-align: right;\n",
       "    }\n",
       "</style>\n",
       "<table border=\"1\" class=\"dataframe\">\n",
       "  <thead>\n",
       "    <tr style=\"text-align: right;\">\n",
       "      <th></th>\n",
       "      <th>customer</th>\n",
       "      <th>age</th>\n",
       "      <th>groceries</th>\n",
       "      <th>choco-bars</th>\n",
       "      <th>satisfied</th>\n",
       "      <th>bulk</th>\n",
       "    </tr>\n",
       "  </thead>\n",
       "  <tbody>\n",
       "    <tr>\n",
       "      <th>customer</th>\n",
       "      <td>1.000000</td>\n",
       "      <td>-0.032389</td>\n",
       "      <td>-0.065598</td>\n",
       "      <td>0.136085</td>\n",
       "      <td>-0.141257</td>\n",
       "      <td>0.078901</td>\n",
       "    </tr>\n",
       "    <tr>\n",
       "      <th>age</th>\n",
       "      <td>-0.032389</td>\n",
       "      <td>1.000000</td>\n",
       "      <td>0.019835</td>\n",
       "      <td>-0.118140</td>\n",
       "      <td>0.038656</td>\n",
       "      <td>-0.097474</td>\n",
       "    </tr>\n",
       "    <tr>\n",
       "      <th>groceries</th>\n",
       "      <td>-0.065598</td>\n",
       "      <td>0.019835</td>\n",
       "      <td>1.000000</td>\n",
       "      <td>-0.021395</td>\n",
       "      <td>0.163671</td>\n",
       "      <td>0.241078</td>\n",
       "    </tr>\n",
       "    <tr>\n",
       "      <th>choco-bars</th>\n",
       "      <td>0.136085</td>\n",
       "      <td>-0.118140</td>\n",
       "      <td>-0.021395</td>\n",
       "      <td>1.000000</td>\n",
       "      <td>-0.295230</td>\n",
       "      <td>0.044640</td>\n",
       "    </tr>\n",
       "    <tr>\n",
       "      <th>satisfied</th>\n",
       "      <td>-0.141257</td>\n",
       "      <td>0.038656</td>\n",
       "      <td>0.163671</td>\n",
       "      <td>-0.295230</td>\n",
       "      <td>1.000000</td>\n",
       "      <td>-0.048885</td>\n",
       "    </tr>\n",
       "    <tr>\n",
       "      <th>bulk</th>\n",
       "      <td>0.078901</td>\n",
       "      <td>-0.097474</td>\n",
       "      <td>0.241078</td>\n",
       "      <td>0.044640</td>\n",
       "      <td>-0.048885</td>\n",
       "      <td>1.000000</td>\n",
       "    </tr>\n",
       "  </tbody>\n",
       "</table>\n",
       "</div>"
      ],
      "text/plain": [
       "            customer       age  groceries  choco-bars  satisfied      bulk\n",
       "customer    1.000000 -0.032389  -0.065598    0.136085  -0.141257  0.078901\n",
       "age        -0.032389  1.000000   0.019835   -0.118140   0.038656 -0.097474\n",
       "groceries  -0.065598  0.019835   1.000000   -0.021395   0.163671  0.241078\n",
       "choco-bars  0.136085 -0.118140  -0.021395    1.000000  -0.295230  0.044640\n",
       "satisfied  -0.141257  0.038656   0.163671   -0.295230   1.000000 -0.048885\n",
       "bulk        0.078901 -0.097474   0.241078    0.044640  -0.048885  1.000000"
      ]
     },
     "execution_count": 44,
     "metadata": {},
     "output_type": "execute_result"
    }
   ],
   "source": [
    "## correlation in dataset\n",
    "corrdf= df.corr()\n",
    "corrdf"
   ]
  },
  {
   "cell_type": "code",
   "execution_count": 43,
   "id": "d2dd5457",
   "metadata": {},
   "outputs": [
    {
     "data": {
      "text/plain": [
       "<Axes: >"
      ]
     },
     "execution_count": 43,
     "metadata": {},
     "output_type": "execute_result"
    },
    {
     "data": {
      "image/png": "[encoded data removed]",
      "text/plain": [
       "<Figure size 640x480 with 2 Axes>"
      ]
     },
     "metadata": {},
     "output_type": "display_data"
    }
   ],
   "source": [
    "## heatmap for correlation\n",
    "sns.heatmap(corrdf,annot=True,cmap='rainbow')\n",
    "## found no any strong correlation in dataset"
   ]
  },
  {
   "cell_type": "code",
   "execution_count": 46,
   "id": "d99ff8dc",
   "metadata": {},
   "outputs": [
    {
     "data": {
      "text/plain": [
       "4    15\n",
       "2    15\n",
       "3    13\n",
       "1     7\n",
       "Name: satisfied, dtype: int64"
      ]
     },
     "execution_count": 46,
     "metadata": {},
     "output_type": "execute_result"
    }
   ],
   "source": [
    "## satisfied rating wise count\n",
    "df['satisfied'].value_counts()"
   ]
  },
  {
   "cell_type": "code",
   "execution_count": 45,
   "id": "2501053e",
   "metadata": {},
   "outputs": [
    {
     "data": {
      "image/png": "[encoded data removed]",
      "text/plain": [
       "<Figure size 640x480 with 1 Axes>"
      ]
     },
     "metadata": {},
     "output_type": "display_data"
    }
   ],
   "source": [
    "sns.countplot(x=df['satisfied'])\n",
    "plt.show()\n",
    "\n",
    "## 4 and 2 rating are highest in ratings"
   ]
  },
  {
   "cell_type": "code",
   "execution_count": 56,
   "id": "087e308e",
   "metadata": {},
   "outputs": [
    {
     "data": {
      "text/plain": [
       "sex     satisfied\n",
       "Female  1             420\n",
       "        2            1510\n",
       "        3            1550\n",
       "        4            1300\n",
       "Male    1             980\n",
       "        2            1250\n",
       "        3            1000\n",
       "        4            1800\n",
       "Name: groceries, dtype: int64"
      ]
     },
     "execution_count": 56,
     "metadata": {},
     "output_type": "execute_result"
    }
   ],
   "source": [
    "## rating wise grooceries spend by male and female \n",
    "df.groupby(['sex','satisfied'])['groceries'].sum()"
   ]
  },
  {
   "cell_type": "code",
   "execution_count": 46,
   "id": "1a01e168",
   "metadata": {},
   "outputs": [
    {
     "data": {
      "image/png": "[encoded data removed]",
      "text/plain": [
       "<Figure size 640x480 with 1 Axes>"
      ]
     },
     "metadata": {},
     "output_type": "display_data"
    }
   ],
   "source": [
    "df.groupby(['sex','satisfied'])['groceries'].sum().plot(kind='bar')\n",
    "plt.show()"
   ]
  },
  {
   "cell_type": "code",
   "execution_count": 59,
   "id": "6fdae462",
   "metadata": {},
   "outputs": [
    {
     "name": "stdout",
     "output_type": "stream",
     "text": [
      "average age of customer is -  30.0\n"
     ]
    }
   ],
   "source": [
    "## average age of customer\n",
    "print(\"average age of customer is - \",round(df['age'].mean(),0))"
   ]
  },
  {
   "cell_type": "code",
   "execution_count": 47,
   "id": "50871bc8",
   "metadata": {},
   "outputs": [
    {
     "data": {
      "image/png": "[encoded data removed]",
      "text/plain": [
       "<Figure size 640x480 with 1 Axes>"
      ]
     },
     "metadata": {},
     "output_type": "display_data"
    }
   ],
   "source": [
    "## total choco-bar purchased by male and female\n",
    "df.groupby('sex')['choco-bars'].sum().plot(kind='bar')\n",
    "plt.show()"
   ]
  },
  {
   "cell_type": "code",
   "execution_count": 51,
   "id": "74435799",
   "metadata": {
    "scrolled": true
   },
   "outputs": [
    {
     "data": {
      "text/plain": [
       "<Axes: ylabel='type'>"
      ]
     },
     "execution_count": 51,
     "metadata": {},
     "output_type": "execute_result"
    },
    {
     "data": {
      "image/png": "[encoded data removed]",
      "text/plain": [
       "<Figure size 1000x300 with 1 Axes>"
      ]
     },
     "metadata": {},
     "output_type": "display_data"
    }
   ],
   "source": [
    "## type wise choco-bar purchased\n",
    "plt.figure(figsize=(10,3))\n",
    "df.groupby('type')['choco-bars'].sum().plot(kind='barh')\n",
    "## highest purchased choco-bar is dark chocobar."
   ]
  },
  {
   "cell_type": "markdown",
   "id": "503bf731",
   "metadata": {},
   "source": [
    "# highest rating choco-bar"
   ]
  },
  {
   "cell_type": "code",
   "execution_count": 56,
   "id": "d32b90cc",
   "metadata": {
    "scrolled": true
   },
   "outputs": [
    {
     "data": {
      "image/png": "[encoded data removed]",
      "text/plain": [
       "<Figure size 1000x300 with 1 Axes>"
      ]
     },
     "metadata": {},
     "output_type": "display_data"
    }
   ],
   "source": [
    "plt.figure(figsize=(10,3))\n",
    "sns.countplot(x=df['satisfied'],hue=df['type'])\n",
    "plt.show()\n",
    "## highest(4) rating in dark choco-bar"
   ]
  },
  {
   "cell_type": "markdown",
   "id": "9f458cc7",
   "metadata": {},
   "source": [
    "# sex wise ratings given "
   ]
  },
  {
   "cell_type": "code",
   "execution_count": 57,
   "id": "c0407236",
   "metadata": {},
   "outputs": [
    {
     "data": {
      "image/png": "[encoded data removed]",
      "text/plain": [
       "<Figure size 640x480 with 1 Axes>"
      ]
     },
     "metadata": {},
     "output_type": "display_data"
    }
   ],
   "source": [
    "sns.countplot(x=df['satisfied'],hue=df['sex'])\n",
    "plt.show()\n",
    "## male has given highest rating "
   ]
  },
  {
   "cell_type": "markdown",
   "id": "bffc8c6a",
   "metadata": {},
   "source": [
    "# Top five age who purchased max groceries "
   ]
  },
  {
   "cell_type": "code",
   "execution_count": 59,
   "id": "ef48a5c5",
   "metadata": {},
   "outputs": [
    {
     "name": "stdout",
     "output_type": "stream",
     "text": [
      "top five age category who purchased more groceries are-\n",
      " age\n",
      "20    1060\n",
      "40     800\n",
      "23     770\n",
      "36     740\n",
      "29     610\n",
      "32     600\n",
      "Name: groceries, dtype: int64\n"
     ]
    }
   ],
   "source": [
    "age_gro=df.groupby('age')['groceries'].sum()\n",
    "print(\"top five age category who purchased more groceries are-\\n\",(age_gro.sort_values(ascending=False).iloc[0:6]))\n",
    "\n"
   ]
  },
  {
   "cell_type": "code",
   "execution_count": 60,
   "id": "0e2d7e33",
   "metadata": {},
   "outputs": [
    {
     "data": {
      "image/png": "[encoded data removed]",
      "text/plain": [
       "<Figure size 640x480 with 1 Axes>"
      ]
     },
     "metadata": {},
     "output_type": "display_data"
    }
   ],
   "source": [
    "age_gro.sort_values(ascending=False).iloc[0:6].plot(kind='bar')\n",
    "plt.show()"
   ]
  },
  {
   "cell_type": "code",
   "execution_count": null,
   "id": "a96b8225",
   "metadata": {},
   "outputs": [],
   "source": []
  }
 ],
 "metadata": {
  "kernelspec": {
   "display_name": "Python 3 (ipykernel)",
   "language": "python",
   "name": "python3"
  },
  "language_info": {
   "codemirror_mode": {
    "name": "ipython",
    "version": 3
   },
   "file_extension": ".py",
   "mimetype": "text/x-python",
   "name": "python",
   "nbconvert_exporter": "python",
   "pygments_lexer": "ipython3",
   "version": "3.11.4"
  }
 },
 "nbformat": 4,
 "nbformat_minor": 5
}
